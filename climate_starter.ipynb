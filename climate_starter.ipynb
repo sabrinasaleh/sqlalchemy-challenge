{
 "cells": [
  {
   "cell_type": "code",
   "execution_count": 1,
   "metadata": {},
   "outputs": [],
   "source": [
    "# import dependencies\n",
    "%load_ext lab_black\n",
    "%matplotlib inline\n",
    "\n",
    "from matplotlib import style\n",
    "style.use(\"fivethirtyeight\")\n",
    "\n",
    "import matplotlib.pyplot as plt\n",
    "\n",
    "import warnings\n",
    "warnings.filterwarnings(\"ignore\")"
   ]
  },
  {
   "cell_type": "code",
   "execution_count": 2,
   "metadata": {},
   "outputs": [],
   "source": [
    "import numpy as np\n",
    "import pandas as pd"
   ]
  },
  {
   "cell_type": "code",
   "execution_count": 3,
   "metadata": {},
   "outputs": [],
   "source": [
    "import datetime as dt"
   ]
  },
  {
   "cell_type": "markdown",
   "metadata": {},
   "source": [
    "# Reflect Tables into SQLAlchemy ORM"
   ]
  },
  {
   "cell_type": "code",
   "execution_count": 4,
   "metadata": {},
   "outputs": [],
   "source": [
    "# Python SQL toolkit and Object Relational Mapper\n",
    "import sqlalchemy\n",
    "from sqlalchemy.ext.automap import automap_base\n",
    "from sqlalchemy.orm import Session\n",
    "from sqlalchemy import create_engine, func"
   ]
  },
  {
   "cell_type": "code",
   "execution_count": 5,
   "metadata": {},
   "outputs": [],
   "source": [
    "engine = create_engine(\"sqlite:///Resources/hawaii.sqlite\")"
   ]
  },
  {
   "cell_type": "code",
   "execution_count": 6,
   "metadata": {},
   "outputs": [],
   "source": [
    "# reflect an existing database into a new model\n",
    "Base = automap_base()\n",
    "\n",
    "# reflect the tables\n",
    "Base.prepare(engine, reflect=True)"
   ]
  },
  {
   "cell_type": "code",
   "execution_count": 7,
   "metadata": {},
   "outputs": [
    {
     "data": {
      "text/plain": [
       "['measurement', 'station']"
      ]
     },
     "execution_count": 7,
     "metadata": {},
     "output_type": "execute_result"
    }
   ],
   "source": [
    "# We can view all of the classes that automap found\n",
    "Base.classes.keys()"
   ]
  },
  {
   "cell_type": "code",
   "execution_count": 8,
   "metadata": {},
   "outputs": [],
   "source": [
    "# Save references to each table\n",
    "Measurement = Base.classes.measurement\n",
    "Station = Base.classes.station"
   ]
  },
  {
   "cell_type": "code",
   "execution_count": 9,
   "metadata": {},
   "outputs": [],
   "source": [
    "# Create our session (link) from Python to the DB\n",
    "session = Session(engine)"
   ]
  },
  {
   "cell_type": "markdown",
   "metadata": {},
   "source": [
    "# Exploratory Climate Analysis"
   ]
  },
  {
   "cell_type": "code",
   "execution_count": 10,
   "metadata": {},
   "outputs": [
    {
     "data": {
      "text/plain": [
       "'2017-08-23'"
      ]
     },
     "execution_count": 10,
     "metadata": {},
     "output_type": "execute_result"
    }
   ],
   "source": [
    "# Find the latest date in the dataset\n",
    "latest_date = session.query(func.max(func.strftime(\"%Y-%m-%d\", Measurement.date))).all()\n",
    "latest_date = latest_date[0][0]\n",
    "latest_date"
   ]
  },
  {
   "cell_type": "code",
   "execution_count": 11,
   "metadata": {},
   "outputs": [
    {
     "name": "stdout",
     "output_type": "stream",
     "text": [
      "The date 1 year ago: 2016-08-23\n"
     ]
    }
   ],
   "source": [
    "# Design a query to retrieve the last 12 months of precipitation data and plot the results\n",
    "\n",
    "# Calculate the date 1 year ago from the last data point in the database\n",
    "year_ago_date = dt.date(2017, 8, 23) - dt.timedelta(days=365)\n",
    "print(f\"The date 1 year ago: {year_ago_date}\")"
   ]
  },
  {
   "cell_type": "code",
   "execution_count": 12,
   "metadata": {},
   "outputs": [
    {
     "data": {
      "text/html": [
       "<div>\n",
       "<style scoped>\n",
       "    .dataframe tbody tr th:only-of-type {\n",
       "        vertical-align: middle;\n",
       "    }\n",
       "\n",
       "    .dataframe tbody tr th {\n",
       "        vertical-align: top;\n",
       "    }\n",
       "\n",
       "    .dataframe thead th {\n",
       "        text-align: right;\n",
       "    }\n",
       "</style>\n",
       "<table border=\"1\" class=\"dataframe\">\n",
       "  <thead>\n",
       "    <tr style=\"text-align: right;\">\n",
       "      <th></th>\n",
       "      <th>precipitation</th>\n",
       "    </tr>\n",
       "    <tr>\n",
       "      <th>date</th>\n",
       "      <th></th>\n",
       "    </tr>\n",
       "  </thead>\n",
       "  <tbody>\n",
       "    <tr>\n",
       "      <th>2016-08-23</th>\n",
       "      <td>0.00</td>\n",
       "    </tr>\n",
       "    <tr>\n",
       "      <th>2016-08-23</th>\n",
       "      <td>NaN</td>\n",
       "    </tr>\n",
       "    <tr>\n",
       "      <th>2016-08-23</th>\n",
       "      <td>1.79</td>\n",
       "    </tr>\n",
       "    <tr>\n",
       "      <th>2016-08-23</th>\n",
       "      <td>0.05</td>\n",
       "    </tr>\n",
       "    <tr>\n",
       "      <th>2016-08-23</th>\n",
       "      <td>0.15</td>\n",
       "    </tr>\n",
       "    <tr>\n",
       "      <th>...</th>\n",
       "      <td>...</td>\n",
       "    </tr>\n",
       "    <tr>\n",
       "      <th>2017-08-22</th>\n",
       "      <td>0.00</td>\n",
       "    </tr>\n",
       "    <tr>\n",
       "      <th>2017-08-23</th>\n",
       "      <td>0.00</td>\n",
       "    </tr>\n",
       "    <tr>\n",
       "      <th>2017-08-23</th>\n",
       "      <td>0.00</td>\n",
       "    </tr>\n",
       "    <tr>\n",
       "      <th>2017-08-23</th>\n",
       "      <td>0.08</td>\n",
       "    </tr>\n",
       "    <tr>\n",
       "      <th>2017-08-23</th>\n",
       "      <td>0.45</td>\n",
       "    </tr>\n",
       "  </tbody>\n",
       "</table>\n",
       "<p>2230 rows × 1 columns</p>\n",
       "</div>"
      ],
      "text/plain": [
       "            precipitation\n",
       "date                     \n",
       "2016-08-23           0.00\n",
       "2016-08-23            NaN\n",
       "2016-08-23           1.79\n",
       "2016-08-23           0.05\n",
       "2016-08-23           0.15\n",
       "...                   ...\n",
       "2017-08-22           0.00\n",
       "2017-08-23           0.00\n",
       "2017-08-23           0.00\n",
       "2017-08-23           0.08\n",
       "2017-08-23           0.45\n",
       "\n",
       "[2230 rows x 1 columns]"
      ]
     },
     "execution_count": 12,
     "metadata": {},
     "output_type": "execute_result"
    }
   ],
   "source": [
    "# Perform a query to retrieve the last 12 months of precipitation data\n",
    "year_prcp_data = (\n",
    "    session.query(func.strftime(\"%Y-%m-%d\", Measurement.date), Measurement.prcp)\n",
    "    .filter(func.strftime(\"%Y-%m-%d\", Measurement.date) >= year_ago_date)\n",
    "    .all()\n",
    ")\n",
    "\n",
    "# Save the query results as a Pandas DataFrame and set the index to the date column\n",
    "year_prcp_df = pd.DataFrame(year_prcp_data, columns=[\"date\", \"precipitation\"])\n",
    "year_prcp_df.set_index(\"date\", inplace=True)\n",
    "\n",
    "# Sort the dataframe by date\n",
    "year_prcp_df.sort_values(\"date\", ascending=True)"
   ]
  },
  {
   "cell_type": "code",
   "execution_count": 13,
   "metadata": {},
   "outputs": [
    {
     "data": {
      "image/png": "[encoded data removed]",
      "text/plain": [
       "<Figure size 648x360 with 1 Axes>"
      ]
     },
     "metadata": {},
     "output_type": "display_data"
    }
   ],
   "source": [
    "# Use Pandas Plotting with Matplotlib to plot the data\n",
    "df_matplot = year_prcp_df.sort_values(\"date\", ascending=True).reset_index()\n",
    "\n",
    "df_matplot.plot(\n",
    "    x=\"date\",\n",
    "    xticks=(0, 250, 500, 750, 1000, 1250, 1500, 1750, 2000),\n",
    "    y=\"precipitation\",\n",
    "    title=\"Precipitation: 2016/08/23-2017/08/23\",\n",
    "    label=\"precipitation\",\n",
    "    rot=90,\n",
    "    figsize=(9, 5),\n",
    ")\n",
    "\n",
    "plt.xlabel(\"Date\")\n",
    "plt.ylabel(\"Inches\")\n",
    "plt.legend()\n",
    "plt.tight_layout()\n",
    "plt.savefig(\"Images/sabrina_precipitation.png\")\n",
    "plt.show()"
   ]
  },
  {
   "cell_type": "code",
   "execution_count": 14,
   "metadata": {},
   "outputs": [
    {
     "data": {
      "text/html": [
       "<div>\n",
       "<style scoped>\n",
       "    .dataframe tbody tr th:only-of-type {\n",
       "        vertical-align: middle;\n",
       "    }\n",
       "\n",
       "    .dataframe tbody tr th {\n",
       "        vertical-align: top;\n",
       "    }\n",
       "\n",
       "    .dataframe thead th {\n",
       "        text-align: right;\n",
       "    }\n",
       "</style>\n",
       "<table border=\"1\" class=\"dataframe\">\n",
       "  <thead>\n",
       "    <tr style=\"text-align: right;\">\n",
       "      <th></th>\n",
       "      <th>precipitation</th>\n",
       "    </tr>\n",
       "  </thead>\n",
       "  <tbody>\n",
       "    <tr>\n",
       "      <th>count</th>\n",
       "      <td>2021.000000</td>\n",
       "    </tr>\n",
       "    <tr>\n",
       "      <th>mean</th>\n",
       "      <td>0.177279</td>\n",
       "    </tr>\n",
       "    <tr>\n",
       "      <th>std</th>\n",
       "      <td>0.461190</td>\n",
       "    </tr>\n",
       "    <tr>\n",
       "      <th>min</th>\n",
       "      <td>0.000000</td>\n",
       "    </tr>\n",
       "    <tr>\n",
       "      <th>25%</th>\n",
       "      <td>0.000000</td>\n",
       "    </tr>\n",
       "    <tr>\n",
       "      <th>50%</th>\n",
       "      <td>0.020000</td>\n",
       "    </tr>\n",
       "    <tr>\n",
       "      <th>75%</th>\n",
       "      <td>0.130000</td>\n",
       "    </tr>\n",
       "    <tr>\n",
       "      <th>max</th>\n",
       "      <td>6.700000</td>\n",
       "    </tr>\n",
       "  </tbody>\n",
       "</table>\n",
       "</div>"
      ],
      "text/plain": [
       "       precipitation\n",
       "count    2021.000000\n",
       "mean        0.177279\n",
       "std         0.461190\n",
       "min         0.000000\n",
       "25%         0.000000\n",
       "50%         0.020000\n",
       "75%         0.130000\n",
       "max         6.700000"
      ]
     },
     "execution_count": 14,
     "metadata": {},
     "output_type": "execute_result"
    }
   ],
   "source": [
    "# Use Pandas to calcualte the summary statistics for the precipitation data\n",
    "year_prcp_df.describe()"
   ]
  },
  {
   "cell_type": "code",
   "execution_count": 15,
   "metadata": {},
   "outputs": [
    {
     "name": "stdout",
     "output_type": "stream",
     "text": [
      "Number of Stations: 9\n"
     ]
    }
   ],
   "source": [
    "# Design a query to show how many stations are available in this dataset?\n",
    "station_count = session.query(Station.id).distinct().count()\n",
    "print(f\"Number of Stations: {station_count}\")"
   ]
  },
  {
   "cell_type": "code",
   "execution_count": 16,
   "metadata": {},
   "outputs": [
    {
     "data": {
      "text/plain": [
       "[('USC00519281', 2772),\n",
       " ('USC00519397', 2724),\n",
       " ('USC00513117', 2709),\n",
       " ('USC00519523', 2669),\n",
       " ('USC00516128', 2612),\n",
       " ('USC00514830', 2202),\n",
       " ('USC00511918', 1979),\n",
       " ('USC00517948', 1372),\n",
       " ('USC00518838', 511)]"
      ]
     },
     "execution_count": 16,
     "metadata": {},
     "output_type": "execute_result"
    }
   ],
   "source": [
    "# What are the most active stations? (i.e. what stations have the most rows)?\n",
    "# List the stations and the counts in descending order.\n",
    "station_active = (\n",
    "    session.query(Measurement.station, func.count(Measurement.station))\n",
    "    .group_by(Measurement.station)\n",
    "    .order_by(func.count(Measurement.station).desc())\n",
    "    .all()\n",
    ")\n",
    "station_active"
   ]
  },
  {
   "cell_type": "code",
   "execution_count": 17,
   "metadata": {},
   "outputs": [
    {
     "name": "stdout",
     "output_type": "stream",
     "text": [
      "Lowest temperature of active station: 54.0 fahrenheit\n",
      "Highest temperature of active station: 85.0 fahrenheit\n",
      "Average temperature of active station: 71.66 fahrenheit\n"
     ]
    }
   ],
   "source": [
    "# Using the station id from the previous query, calculate the lowest temperature recorded,\n",
    "# highest temperature recorded, and average temperature of the most active station?\n",
    "station_active_most = station_active[0][0]\n",
    "\n",
    "temps = (\n",
    "    session.query(\n",
    "        func.min(Measurement.tobs),\n",
    "        func.max(Measurement.tobs),\n",
    "        func.avg(Measurement.tobs),\n",
    "    )\n",
    "    .filter(Measurement.station == station_active_most)\n",
    "    .all()\n",
    ")\n",
    "\n",
    "print(f\"Lowest temperature of active station: {temps[0][0]} fahrenheit\")\n",
    "print(f\"Highest temperature of active station: {temps[0][1]} fahrenheit\")\n",
    "print(f\"Average temperature of active station: {round(temps[0][2], 2)} fahrenheit\")"
   ]
  },
  {
   "cell_type": "code",
   "execution_count": 18,
   "metadata": {},
   "outputs": [
    {
     "data": {
      "text/html": [
       "<div>\n",
       "<style scoped>\n",
       "    .dataframe tbody tr th:only-of-type {\n",
       "        vertical-align: middle;\n",
       "    }\n",
       "\n",
       "    .dataframe tbody tr th {\n",
       "        vertical-align: top;\n",
       "    }\n",
       "\n",
       "    .dataframe thead th {\n",
       "        text-align: right;\n",
       "    }\n",
       "</style>\n",
       "<table border=\"1\" class=\"dataframe\">\n",
       "  <thead>\n",
       "    <tr style=\"text-align: right;\">\n",
       "      <th></th>\n",
       "      <th>date</th>\n",
       "      <th>tobs</th>\n",
       "    </tr>\n",
       "  </thead>\n",
       "  <tbody>\n",
       "    <tr>\n",
       "      <th>0</th>\n",
       "      <td>2016-08-23</td>\n",
       "      <td>77.0</td>\n",
       "    </tr>\n",
       "    <tr>\n",
       "      <th>1</th>\n",
       "      <td>2016-08-24</td>\n",
       "      <td>77.0</td>\n",
       "    </tr>\n",
       "    <tr>\n",
       "      <th>2</th>\n",
       "      <td>2016-08-25</td>\n",
       "      <td>80.0</td>\n",
       "    </tr>\n",
       "    <tr>\n",
       "      <th>3</th>\n",
       "      <td>2016-08-26</td>\n",
       "      <td>80.0</td>\n",
       "    </tr>\n",
       "    <tr>\n",
       "      <th>4</th>\n",
       "      <td>2016-08-27</td>\n",
       "      <td>75.0</td>\n",
       "    </tr>\n",
       "    <tr>\n",
       "      <th>...</th>\n",
       "      <td>...</td>\n",
       "      <td>...</td>\n",
       "    </tr>\n",
       "    <tr>\n",
       "      <th>347</th>\n",
       "      <td>2017-08-14</td>\n",
       "      <td>77.0</td>\n",
       "    </tr>\n",
       "    <tr>\n",
       "      <th>348</th>\n",
       "      <td>2017-08-15</td>\n",
       "      <td>77.0</td>\n",
       "    </tr>\n",
       "    <tr>\n",
       "      <th>349</th>\n",
       "      <td>2017-08-16</td>\n",
       "      <td>76.0</td>\n",
       "    </tr>\n",
       "    <tr>\n",
       "      <th>350</th>\n",
       "      <td>2017-08-17</td>\n",
       "      <td>76.0</td>\n",
       "    </tr>\n",
       "    <tr>\n",
       "      <th>351</th>\n",
       "      <td>2017-08-18</td>\n",
       "      <td>79.0</td>\n",
       "    </tr>\n",
       "  </tbody>\n",
       "</table>\n",
       "<p>352 rows × 2 columns</p>\n",
       "</div>"
      ],
      "text/plain": [
       "           date  tobs\n",
       "0    2016-08-23  77.0\n",
       "1    2016-08-24  77.0\n",
       "2    2016-08-25  80.0\n",
       "3    2016-08-26  80.0\n",
       "4    2016-08-27  75.0\n",
       "..          ...   ...\n",
       "347  2017-08-14  77.0\n",
       "348  2017-08-15  77.0\n",
       "349  2017-08-16  76.0\n",
       "350  2017-08-17  76.0\n",
       "351  2017-08-18  79.0\n",
       "\n",
       "[352 rows x 2 columns]"
      ]
     },
     "execution_count": 18,
     "metadata": {},
     "output_type": "execute_result"
    }
   ],
   "source": [
    "# Choose the station with the highest number of temperature observations.\n",
    "# Query the last 12 months of temperature observation data for this station and plot the results as a histogram\n",
    "active_tobs_data = (\n",
    "    session.query(func.strftime(\"%Y-%m-%d\", Measurement.date), Measurement.tobs)\n",
    "    .filter(Measurement.station == station_active_most)\n",
    "    .filter(func.strftime(\"%Y-%m-%d\", Measurement.date) >= year_ago_date)\n",
    "    .all()\n",
    ")\n",
    "\n",
    "# save as a data frame\n",
    "active_tobs_df = pd.DataFrame(active_tobs_data, columns=[\"date\", \"tobs\"])\n",
    "active_tobs_df"
   ]
  },
  {
   "cell_type": "code",
   "execution_count": 19,
   "metadata": {},
   "outputs": [
    {
     "data": {
      "image/png": "[encoded data removed]",
      "text/plain": [
       "<Figure size 432x288 with 1 Axes>"
      ]
     },
     "metadata": {},
     "output_type": "display_data"
    }
   ],
   "source": [
    "# plot the results as a histogram\n",
    "active_tobs_df.plot(kind=\"hist\", bins=12)\n",
    "plt.title(\"Histogram of Temperature\")\n",
    "plt.xlabel(\"Temperature\")\n",
    "plt.ylabel(\"Frequency\")\n",
    "plt.tight_layout()\n",
    "plt.savefig(\"Images/sabrina_station-histogram.png\")\n",
    "plt.show()"
   ]
  },
  {
   "cell_type": "markdown",
   "metadata": {},
   "source": [
    "## Bonus Challenge Assignment"
   ]
  },
  {
   "cell_type": "code",
   "execution_count": 20,
   "metadata": {},
   "outputs": [
    {
     "name": "stdout",
     "output_type": "stream",
     "text": [
      "[(62.0, 69.57142857142857, 74.0)]\n"
     ]
    }
   ],
   "source": [
    "# This function called `calc_temps` will accept start date and end date in the format '%Y-%m-%d'\n",
    "# and return the minimum, average, and maximum temperatures for that range of dates\n",
    "def calc_temps(start_date, end_date):\n",
    "    \"\"\"TMIN, TAVG, and TMAX for a list of dates.\n",
    "    \n",
    "    Args:\n",
    "        start_date (string): A date string in the format %Y-%m-%d\n",
    "        end_date (string): A date string in the format %Y-%m-%d\n",
    "        \n",
    "    Returns:\n",
    "        TMIN, TAVE, and TMAX\n",
    "    \"\"\"\n",
    "\n",
    "    return (\n",
    "        session.query(\n",
    "            func.min(Measurement.tobs),\n",
    "            func.avg(Measurement.tobs),\n",
    "            func.max(Measurement.tobs),\n",
    "        )\n",
    "        .filter(Measurement.date >= start_date)\n",
    "        .filter(Measurement.date <= end_date)\n",
    "        .all()\n",
    "    )\n",
    "\n",
    "\n",
    "# function usage example\n",
    "print(calc_temps(\"2012-02-28\", \"2012-03-05\"))"
   ]
  },
  {
   "cell_type": "code",
   "execution_count": 21,
   "metadata": {},
   "outputs": [
    {
     "name": "stdout",
     "output_type": "stream",
     "text": [
      "Lowest temperature during my trip: 60.0 fahrenheit\n",
      "Average temperature during my trip: 69.26 fahrenheit\n",
      "Highest temperature during my trip: 81.0 fahrenheit\n"
     ]
    }
   ],
   "source": [
    "# Use your previous function `calc_temps` to calculate the tmin, tavg, and tmax\n",
    "# for your trip using the previous year's data for those same dates.\n",
    "trip_temps = calc_temps(\"2017-01-04\", \"2017-01-18\")\n",
    "\n",
    "print(f\"Lowest temperature during my trip: {trip_temps[0][0]} fahrenheit\")\n",
    "print(f\"Average temperature during my trip: {round(trip_temps[0][1], 2)} fahrenheit\")\n",
    "print(f\"Highest temperature during my trip: {trip_temps[0][2]} fahrenheit\")"
   ]
  },
  {
   "cell_type": "code",
   "execution_count": 22,
   "metadata": {},
   "outputs": [
    {
     "data": {
      "image/png": "[encoded data removed]",
      "text/plain": [
       "<Figure size 216x504 with 1 Axes>"
      ]
     },
     "metadata": {},
     "output_type": "display_data"
    }
   ],
   "source": [
    "# Plot the results from your previous query as a bar chart.\n",
    "# Use \"Trip Avg Temp\" as your Title\n",
    "# Use the average temperature for the y value\n",
    "# Use the peak-to-peak (tmax-tmin) value as the y error bar (yerr)\n",
    "min_temp = trip_temps[0][0]\n",
    "avg_temp = trip_temps[0][1]\n",
    "max_temp = trip_temps[0][2]\n",
    "\n",
    "min_error = avg_temp - min_temp\n",
    "max_error = max_temp - avg_temp\n",
    "errorBars = np.array([[min_error], [max_error]])\n",
    "\n",
    "plt.figure(figsize=(3, 7))\n",
    "plt.bar(0, avg_temp, yerr=errorBars, color=\"orange\", alpha=0.4)\n",
    "plt.title(\"Trip Avg Temp\")\n",
    "plt.xticks([])\n",
    "plt.ylim(0, 100)\n",
    "plt.ylabel(\"Temp (F)\")\n",
    "plt.tight_layout()\n",
    "plt.savefig(\"Images/sabrina_temperature.png\")\n",
    "plt.show()"
   ]
  },
  {
   "cell_type": "code",
   "execution_count": 23,
   "metadata": {},
   "outputs": [
    {
     "data": {
      "text/html": [
       "<div>\n",
       "<style scoped>\n",
       "    .dataframe tbody tr th:only-of-type {\n",
       "        vertical-align: middle;\n",
       "    }\n",
       "\n",
       "    .dataframe tbody tr th {\n",
       "        vertical-align: top;\n",
       "    }\n",
       "\n",
       "    .dataframe thead th {\n",
       "        text-align: right;\n",
       "    }\n",
       "</style>\n",
       "<table border=\"1\" class=\"dataframe\">\n",
       "  <thead>\n",
       "    <tr style=\"text-align: right;\">\n",
       "      <th></th>\n",
       "      <th>Station</th>\n",
       "      <th>Location</th>\n",
       "      <th>Total Precipitation</th>\n",
       "      <th>Latitude</th>\n",
       "      <th>Longitude</th>\n",
       "      <th>Elevation</th>\n",
       "    </tr>\n",
       "  </thead>\n",
       "  <tbody>\n",
       "    <tr>\n",
       "      <th>0</th>\n",
       "      <td>USC00516128</td>\n",
       "      <td>MANOA LYON ARBO 785.2, HI US</td>\n",
       "      <td>0.6799999999999999</td>\n",
       "      <td>21.3331</td>\n",
       "      <td>-157.8025</td>\n",
       "      <td>152.4</td>\n",
       "    </tr>\n",
       "    <tr>\n",
       "      <th>1</th>\n",
       "      <td>USC00514830</td>\n",
       "      <td>KUALOA RANCH HEADQUARTERS 886.9, HI US</td>\n",
       "      <td>0.62</td>\n",
       "      <td>21.5213</td>\n",
       "      <td>-157.8374</td>\n",
       "      <td>7.0</td>\n",
       "    </tr>\n",
       "    <tr>\n",
       "      <th>2</th>\n",
       "      <td>USC00519523</td>\n",
       "      <td>WAIMANALO EXPERIMENTAL FARM, HI US</td>\n",
       "      <td>0.61</td>\n",
       "      <td>21.33556</td>\n",
       "      <td>-157.71139</td>\n",
       "      <td>19.5</td>\n",
       "    </tr>\n",
       "    <tr>\n",
       "      <th>3</th>\n",
       "      <td>USC00519281</td>\n",
       "      <td>WAIHEE 837.5, HI US</td>\n",
       "      <td>0.17</td>\n",
       "      <td>21.45167</td>\n",
       "      <td>-157.84888999999998</td>\n",
       "      <td>32.9</td>\n",
       "    </tr>\n",
       "    <tr>\n",
       "      <th>4</th>\n",
       "      <td>USC00513117</td>\n",
       "      <td>KANEOHE 838.1, HI US</td>\n",
       "      <td>0.06</td>\n",
       "      <td>21.4234</td>\n",
       "      <td>-157.8015</td>\n",
       "      <td>14.6</td>\n",
       "    </tr>\n",
       "    <tr>\n",
       "      <th>5</th>\n",
       "      <td>USC00519397</td>\n",
       "      <td>WAIKIKI 717.2, HI US</td>\n",
       "      <td>0.0</td>\n",
       "      <td>21.2716</td>\n",
       "      <td>-157.8168</td>\n",
       "      <td>3.0</td>\n",
       "    </tr>\n",
       "    <tr>\n",
       "      <th>6</th>\n",
       "      <td>USC00517948</td>\n",
       "      <td>PEARL CITY, HI US</td>\n",
       "      <td>0.0</td>\n",
       "      <td>21.3934</td>\n",
       "      <td>-157.9751</td>\n",
       "      <td>11.9</td>\n",
       "    </tr>\n",
       "  </tbody>\n",
       "</table>\n",
       "</div>"
      ],
      "text/plain": [
       "       Station                                Location Total Precipitation  \\\n",
       "0  USC00516128            MANOA LYON ARBO 785.2, HI US  0.6799999999999999   \n",
       "1  USC00514830  KUALOA RANCH HEADQUARTERS 886.9, HI US                0.62   \n",
       "2  USC00519523      WAIMANALO EXPERIMENTAL FARM, HI US                0.61   \n",
       "3  USC00519281                     WAIHEE 837.5, HI US                0.17   \n",
       "4  USC00513117                    KANEOHE 838.1, HI US                0.06   \n",
       "5  USC00519397                    WAIKIKI 717.2, HI US                 0.0   \n",
       "6  USC00517948                       PEARL CITY, HI US                 0.0   \n",
       "\n",
       "   Latitude            Longitude Elevation  \n",
       "0   21.3331            -157.8025     152.4  \n",
       "1   21.5213            -157.8374       7.0  \n",
       "2  21.33556           -157.71139      19.5  \n",
       "3  21.45167  -157.84888999999998      32.9  \n",
       "4   21.4234            -157.8015      14.6  \n",
       "5   21.2716            -157.8168       3.0  \n",
       "6   21.3934            -157.9751      11.9  "
      ]
     },
     "execution_count": 23,
     "metadata": {},
     "output_type": "execute_result"
    }
   ],
   "source": [
    "# Calculate the total amount of rainfall per weather station for your trip dates using the previous year's matching dates.\n",
    "# Sort this in descending order by precipitation amount and list the station, name, latitude, longitude, and elevation\n",
    "\n",
    "# Find previous year's matching dates for trip dates\n",
    "start_date_match = \"2017-01-04\"\n",
    "end_date_match = \"2017-01-18\"\n",
    "\n",
    "# query for precipitation per station on trip dates\n",
    "sel = [\n",
    "    Station.station,\n",
    "    Station.name,\n",
    "    func.sum(Measurement.prcp),\n",
    "    Station.latitude,\n",
    "    Station.longitude,\n",
    "    Station.elevation,\n",
    "]\n",
    "\n",
    "station_rain = (\n",
    "    session.query(*sel)\n",
    "    .filter(Station.station == Measurement.station)\n",
    "    .filter(Measurement.date >= start_date_match)\n",
    "    .filter(Measurement.date <= end_date_match)\n",
    "    .group_by(Station.station)\n",
    "    .order_by(func.sum(Measurement.prcp).desc())\n",
    "    .all()\n",
    ")\n",
    "\n",
    "# convert query object to data frame\n",
    "station_rain_df = pd.DataFrame(np.array(station_rain))\n",
    "\n",
    "# rename columns\n",
    "station_rain_df = station_rain_df.rename(\n",
    "    columns={\n",
    "        0: \"Station\",\n",
    "        1: \"Location\",\n",
    "        2: \"Total Precipitation\",\n",
    "        3: \"Latitude\",\n",
    "        4: \"Longitude\",\n",
    "        5: \"Elevation\",\n",
    "    }\n",
    ")\n",
    "\n",
    "station_rain_df"
   ]
  },
  {
   "cell_type": "code",
   "execution_count": 24,
   "metadata": {},
   "outputs": [
    {
     "data": {
      "text/plain": [
       "[(62.0, 69.15384615384616, 77.0)]"
      ]
     },
     "execution_count": 24,
     "metadata": {},
     "output_type": "execute_result"
    }
   ],
   "source": [
    "# Create a query that will calculate the daily normals\n",
    "# (i.e. the averages for tmin, tmax, and tavg for all historic data matching a specific month and day)\n",
    "\n",
    "\n",
    "def daily_normals(date):\n",
    "    \"\"\"Daily Normals.\n",
    "    \n",
    "    Args:\n",
    "        date (str): A date string in the format '%m-%d'\n",
    "        \n",
    "    Returns:\n",
    "        A list of tuples containing the daily normals, tmin, tavg, and tmax\n",
    "    \n",
    "    \"\"\"\n",
    "\n",
    "    sel = [\n",
    "        func.min(Measurement.tobs),\n",
    "        func.avg(Measurement.tobs),\n",
    "        func.max(Measurement.tobs),\n",
    "    ]\n",
    "    return (\n",
    "        session.query(*sel)\n",
    "        .filter(func.strftime(\"%m-%d\", Measurement.date) == date)\n",
    "        .all()\n",
    "    )\n",
    "\n",
    "\n",
    "daily_normals(\"01-01\")"
   ]
  },
  {
   "cell_type": "code",
   "execution_count": 25,
   "metadata": {},
   "outputs": [
    {
     "data": {
      "text/plain": [
       "[[(58.0, 70.0, 76.0)],\n",
       " [(56.0, 67.96428571428571, 76.0)],\n",
       " [(61.0, 68.96491228070175, 76.0)],\n",
       " [(57.0, 68.54385964912281, 76.0)],\n",
       " [(57.0, 67.16071428571429, 75.0)],\n",
       " [(58.0, 67.9298245614035, 78.0)],\n",
       " [(62.0, 69.74137931034483, 77.0)],\n",
       " [(57.0, 67.3103448275862, 78.0)],\n",
       " [(57.0, 67.4074074074074, 81.0)],\n",
       " [(57.0, 67.25454545454545, 77.0)],\n",
       " [(58.0, 69.52631578947368, 77.0)],\n",
       " [(56.0, 69.31372549019608, 78.0)],\n",
       " [(54.0, 68.62962962962963, 80.0)],\n",
       " [(61.0, 69.07407407407408, 76.0)],\n",
       " [(57.0, 68.63157894736842, 77.0)]]"
      ]
     },
     "execution_count": 25,
     "metadata": {},
     "output_type": "execute_result"
    }
   ],
   "source": [
    "# calculate the daily normals for your trip\n",
    "# push each tuple of calculations into a list called `normals`\n",
    "\n",
    "# Set the start and end date of the trip\n",
    "start_date = \"2021-01-04\"\n",
    "end_date = \"2021-01-18\"\n",
    "\n",
    "# Use the start and end date to create a range of dates\n",
    "start_num = int(start_date[-2:])\n",
    "end_num = int(end_date[-2:])\n",
    "trip_length = end_num - start_num + 1\n",
    "\n",
    "start_date = dt.datetime.strptime(start_date, \"%Y-%m-%d\")\n",
    "\n",
    "# Stip off the year and save a list of %m-%d strings\n",
    "date_list = [\n",
    "    dt.datetime.strftime(start_date + dt.timedelta(days=x), \"%m-%d\")\n",
    "    for x in range(0, trip_length)\n",
    "]\n",
    "\n",
    "# Loop through the list of %m-%d strings and calculate the normals for each date\n",
    "normals = [daily_normals(date) for date in date_list]\n",
    "\n",
    "normals"
   ]
  },
  {
   "cell_type": "code",
   "execution_count": 26,
   "metadata": {},
   "outputs": [
    {
     "data": {
      "text/html": [
       "<div>\n",
       "<style scoped>\n",
       "    .dataframe tbody tr th:only-of-type {\n",
       "        vertical-align: middle;\n",
       "    }\n",
       "\n",
       "    .dataframe tbody tr th {\n",
       "        vertical-align: top;\n",
       "    }\n",
       "\n",
       "    .dataframe thead th {\n",
       "        text-align: right;\n",
       "    }\n",
       "</style>\n",
       "<table border=\"1\" class=\"dataframe\">\n",
       "  <thead>\n",
       "    <tr style=\"text-align: right;\">\n",
       "      <th></th>\n",
       "      <th>tmin</th>\n",
       "      <th>tavg</th>\n",
       "      <th>tmax</th>\n",
       "    </tr>\n",
       "    <tr>\n",
       "      <th>Date</th>\n",
       "      <th></th>\n",
       "      <th></th>\n",
       "      <th></th>\n",
       "    </tr>\n",
       "  </thead>\n",
       "  <tbody>\n",
       "    <tr>\n",
       "      <th>01-04</th>\n",
       "      <td>58.0</td>\n",
       "      <td>70.000000</td>\n",
       "      <td>76.0</td>\n",
       "    </tr>\n",
       "    <tr>\n",
       "      <th>01-05</th>\n",
       "      <td>56.0</td>\n",
       "      <td>67.964286</td>\n",
       "      <td>76.0</td>\n",
       "    </tr>\n",
       "    <tr>\n",
       "      <th>01-06</th>\n",
       "      <td>61.0</td>\n",
       "      <td>68.964912</td>\n",
       "      <td>76.0</td>\n",
       "    </tr>\n",
       "    <tr>\n",
       "      <th>01-07</th>\n",
       "      <td>57.0</td>\n",
       "      <td>68.543860</td>\n",
       "      <td>76.0</td>\n",
       "    </tr>\n",
       "    <tr>\n",
       "      <th>01-08</th>\n",
       "      <td>57.0</td>\n",
       "      <td>67.160714</td>\n",
       "      <td>75.0</td>\n",
       "    </tr>\n",
       "    <tr>\n",
       "      <th>01-09</th>\n",
       "      <td>58.0</td>\n",
       "      <td>67.929825</td>\n",
       "      <td>78.0</td>\n",
       "    </tr>\n",
       "    <tr>\n",
       "      <th>01-10</th>\n",
       "      <td>62.0</td>\n",
       "      <td>69.741379</td>\n",
       "      <td>77.0</td>\n",
       "    </tr>\n",
       "    <tr>\n",
       "      <th>01-11</th>\n",
       "      <td>57.0</td>\n",
       "      <td>67.310345</td>\n",
       "      <td>78.0</td>\n",
       "    </tr>\n",
       "    <tr>\n",
       "      <th>01-12</th>\n",
       "      <td>57.0</td>\n",
       "      <td>67.407407</td>\n",
       "      <td>81.0</td>\n",
       "    </tr>\n",
       "    <tr>\n",
       "      <th>01-13</th>\n",
       "      <td>57.0</td>\n",
       "      <td>67.254545</td>\n",
       "      <td>77.0</td>\n",
       "    </tr>\n",
       "    <tr>\n",
       "      <th>01-14</th>\n",
       "      <td>58.0</td>\n",
       "      <td>69.526316</td>\n",
       "      <td>77.0</td>\n",
       "    </tr>\n",
       "    <tr>\n",
       "      <th>01-15</th>\n",
       "      <td>56.0</td>\n",
       "      <td>69.313725</td>\n",
       "      <td>78.0</td>\n",
       "    </tr>\n",
       "    <tr>\n",
       "      <th>01-16</th>\n",
       "      <td>54.0</td>\n",
       "      <td>68.629630</td>\n",
       "      <td>80.0</td>\n",
       "    </tr>\n",
       "    <tr>\n",
       "      <th>01-17</th>\n",
       "      <td>61.0</td>\n",
       "      <td>69.074074</td>\n",
       "      <td>76.0</td>\n",
       "    </tr>\n",
       "    <tr>\n",
       "      <th>01-18</th>\n",
       "      <td>57.0</td>\n",
       "      <td>68.631579</td>\n",
       "      <td>77.0</td>\n",
       "    </tr>\n",
       "  </tbody>\n",
       "</table>\n",
       "</div>"
      ],
      "text/plain": [
       "       tmin       tavg  tmax\n",
       "Date                        \n",
       "01-04  58.0  70.000000  76.0\n",
       "01-05  56.0  67.964286  76.0\n",
       "01-06  61.0  68.964912  76.0\n",
       "01-07  57.0  68.543860  76.0\n",
       "01-08  57.0  67.160714  75.0\n",
       "01-09  58.0  67.929825  78.0\n",
       "01-10  62.0  69.741379  77.0\n",
       "01-11  57.0  67.310345  78.0\n",
       "01-12  57.0  67.407407  81.0\n",
       "01-13  57.0  67.254545  77.0\n",
       "01-14  58.0  69.526316  77.0\n",
       "01-15  56.0  69.313725  78.0\n",
       "01-16  54.0  68.629630  80.0\n",
       "01-17  61.0  69.074074  76.0\n",
       "01-18  57.0  68.631579  77.0"
      ]
     },
     "execution_count": 26,
     "metadata": {},
     "output_type": "execute_result"
    }
   ],
   "source": [
    "# Load the previous query results into a Pandas DataFrame and add the `trip_dates` range as the `date` index\n",
    "\n",
    "trip_normals = [np.array(normal[0]) for normal in normals]\n",
    "\n",
    "normals_df = pd.DataFrame(trip_normals)\n",
    "\n",
    "# Add date column\n",
    "normals_df[\"Date\"] = date_list\n",
    "\n",
    "# Rename other columns\n",
    "normals_df = normals_df.rename(columns={0: \"tmin\", 1: \"tavg\", 2: \"tmax\"})\n",
    "\n",
    "# Set index for date\n",
    "normals_df = normals_df.set_index(\"Date\")\n",
    "normals_df"
   ]
  },
  {
   "cell_type": "code",
   "execution_count": 27,
   "metadata": {},
   "outputs": [
    {
     "data": {
      "image/png": "[encoded data removed]",
      "text/plain": [
       "<Figure size 720x360 with 1 Axes>"
      ]
     },
     "metadata": {},
     "output_type": "display_data"
    }
   ],
   "source": [
    "# Plot the daily normals as an area plot with `stacked=False`\n",
    "trip_dates = [\n",
    "    \"01-04\",\n",
    "    \"01-05\",\n",
    "    \"01-06\",\n",
    "    \"01-07\",\n",
    "    \"01-08\",\n",
    "    \"01-09\",\n",
    "    \"01-10\",\n",
    "    \"01-11\",\n",
    "    \"01-12\",\n",
    "    \"01-13\",\n",
    "    \"01-14\",\n",
    "    \"01-15\",\n",
    "    \"01-16\",\n",
    "    \"01-17\",\n",
    "    \"01-18\",\n",
    "]\n",
    "\n",
    "fig, ax = plt.subplots(figsize=(10, 5))\n",
    "normals_df.plot.area(ax=ax, stacked=False, alpha=0.333)\n",
    "ax.set_xlabel(\"Date\")\n",
    "ax.set_ylabel(\"Temperature (F)\")\n",
    "ax.set_title(\"Daily Normal Temperatures for Honolulu, HI\")\n",
    "dates = [f\"2021-{trip_date}\" for trip_date in trip_dates]\n",
    "ax.set_xticks(np.arange(len(dates)))\n",
    "ax.set_xticklabels(dates, rotation=45)\n",
    "plt.tight_layout()\n",
    "plt.savefig(\"Images/sabrina_daily-normals.png\")\n",
    "plt.show()"
   ]
  }
 ],
 "metadata": {
  "environment": {
   "name": "common-cpu.m54",
   "type": "gcloud",
   "uri": "gcr.io/deeplearning-platform-release/base-cpu:m54"
  },
  "kernel_info": {
   "name": "python3"
  },
  "kernelspec": {
   "display_name": "Python 3",
   "language": "python",
   "name": "python3"
  },
  "language_info": {
   "codemirror_mode": {
    "name": "ipython",
    "version": 3
   },
   "file_extension": ".py",
   "mimetype": "text/x-python",
   "name": "python",
   "nbconvert_exporter": "python",
   "pygments_lexer": "ipython3",
   "version": "3.7.8"
  },
  "nteract": {
   "version": "0.12.3"
  },
  "varInspector": {
   "cols": {
    "lenName": 16,
    "lenType": 16,
    "lenVar": 40
   },
   "kernels_config": {
    "python": {
     "delete_cmd_postfix": "",
     "delete_cmd_prefix": "del ",
     "library": "var_list.py",
     "varRefreshCmd": "print(var_dic_list())"
    },
    "r": {
     "delete_cmd_postfix": ") ",
     "delete_cmd_prefix": "rm(",
     "library": "var_list.r",
     "varRefreshCmd": "cat(var_dic_list()) "
    }
   },
   "types_to_exclude": [
    "module",
    "function",
    "builtin_function_or_method",
    "instance",
    "_Feature"
   ],
   "window_display": false
  }
 },
 "nbformat": 4,
 "nbformat_minor": 4
}
